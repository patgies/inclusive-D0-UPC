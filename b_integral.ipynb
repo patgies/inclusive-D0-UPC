{
 "cells": [
  {
   "cell_type": "code",
   "execution_count": null,
   "id": "4f3f7b94-4565-476d-8d4c-ef1ca143d381",
   "metadata": {},
   "outputs": [],
   "source": [
    "import csv \n",
    "import pandas as pd\n",
    "from scipy import integrate\n",
    "\n",
    "\n",
    "# Different impact parameters\n",
    "\n",
    "b_values = [0,2,4,6,8,10,12,14,16,18,20,22,24,26,28,30]\n",
    "\n",
    "\n",
    "\n",
    "# list of all preexisiting files: each file y0_{i}.csv  \n",
    "# contains the result of the cross section for different momenta pt at specific impact parameter \"i\"\n",
    "\n",
    "csv_list = [ f\"y0_{i}.csv\" for i in b_values]\n",
    "\n",
    "\n",
    "# create list of dataframes\n",
    "\n",
    "df_list = [pd.read_csv(itw,usecols=[1],names=['result'],skipinitialspace=True)  for itw in csv_list]\n",
    "\n",
    "pt = pd.read_csv('y0_0.csv', usecols=[0], names=['pt'], header=None)\n",
    "    \n",
    "# combine all the dataframes\n",
    "\n",
    "df = pd.concat(df_list, axis=1)\n",
    "\n",
    "\n",
    "lists_by_index = {}\n",
    "\n",
    "for i in range(len(df)):\n",
    "    index_str = str(i)\n",
    "    lists_by_index[f\"list_{index_str}\"] = []\n",
    "    lists_by_index[f\"list_{index_str}\"].extend(df.loc[i].values)\n",
    "\n",
    "# Multiply the values of lists_by_index by b_values (2D integral to polar coordinates)\n",
    "\n",
    "for key, value in lists_by_index.items():\n",
    "    lists_by_index[key] = [a * b for a, b in zip(value, b_values)]\n",
    "\n",
    "integrated_values = []\n",
    "\n",
    "for i in range(len(lists_by_index)):\n",
    "    index_str = str(i)\n",
    "    value = integrate.simpson(lists_by_index[f\"list_{index_str}\"], b_values)\n",
    "    integrated_values.append(value)\n",
    "\n",
    "res = pd.DataFrame({'result': integrated_values})\n",
    "res.insert(0, \"pt\", pt)\n",
    "res.to_csv('y0_result.csv', index=False)\n",
    "\n"
   ]
  }
 ],
 "metadata": {
  "kernelspec": {
   "display_name": "Python 3 (ipykernel)",
   "language": "python",
   "name": "python3"
  },
  "language_info": {
   "codemirror_mode": {
    "name": "ipython",
    "version": 3
   },
   "file_extension": ".py",
   "mimetype": "text/x-python",
   "name": "python",
   "nbconvert_exporter": "python",
   "pygments_lexer": "ipython3",
   "version": "3.9.13"
  }
 },
 "nbformat": 4,
 "nbformat_minor": 5
}
