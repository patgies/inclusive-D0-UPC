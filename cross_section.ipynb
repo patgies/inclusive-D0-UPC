{
 "cells": [
  {
   "cell_type": "code",
   "execution_count": null,
   "id": "9a4f3b1b-27c8-45f6-b009-7bf545d989ac",
   "metadata": {},
   "outputs": [],
   "source": [
    "import pandas as pd\n",
    "import math\n",
    "import csv\n",
    "import matplotlib.pyplot as plt\n",
    "\n",
    "\n",
    "\n",
    "pi = math.pi\n",
    "alfae = 1/137\n",
    "proton_size = 16.36 #mb, from Phys.Rev. D88 (2013) 114020, arXiv:1309.6963\n",
    "eq = 4/9  #e_charm=(2/3)^2\n",
    "Nc = 3\n",
    "\n",
    "#Conversion factors\n",
    "FMGEV=5.068\n",
    "GEVSQRTONB = 1.0e7/(FMGEV*FMGEV)\n",
    "GEVSQRTOMB=GEVSQRTONB*1e-6\n",
    "\n",
    "facp = FMGEV *FMGEV * alfae *eq* Nc*radius / (2*pi)**4   #proton target\n",
    "facA = FMGEV *FMGEV *alfae *eq* Nc / (2*pi)**4           #nucleus target\n",
    "\n",
    "#In the factors above, the (2*pi)^4 comes from the prefactor and the integration over the dipole in momentum space\n",
    "\n",
    "A = 208\n",
    "ATA = 30.756  #dimensionless \n",
    "\n",
    "\n",
    "## Ap collisions\n",
    "\n",
    "result_p =  pd.read_csv(\"y0_presult_p.csv\",usecols=['pt','res'], comment=\"#\")\n",
    "result_p['res'] = result_p['res']*facp*(2*pi)*result_p['pt']\n",
    "\n",
    "#The factor of (2*pi) comes from d^2p -> dp*p*(2pi) of the differential cross section\n",
    "\n",
    "## AA collisions\n",
    "\n",
    "result_A = pd.read_csv('y0_result.csv',usecols=['res','pt'], comment=\"#\")\n",
    "result_A['res'] = (2*pi)*result_A['res']*facA*(2*pi)*result_A['pt']*GEVSQRTOMB\n",
    "\n",
    "#The factor of (2*pi)^2 comes from d^2p -> dp*p*(2pi) and the 2D impact parameter b-integral\n",
    "\n",
    "\n",
    "plt.plot(result_A['pt'], result_A['res'])\n"
   ]
  }
 ],
 "metadata": {
  "kernelspec": {
   "display_name": "Python 3 (ipykernel)",
   "language": "python",
   "name": "python3"
  },
  "language_info": {
   "codemirror_mode": {
    "name": "ipython",
    "version": 3
   },
   "file_extension": ".py",
   "mimetype": "text/x-python",
   "name": "python",
   "nbconvert_exporter": "python",
   "pygments_lexer": "ipython3",
   "version": "3.9.13"
  }
 },
 "nbformat": 4,
 "nbformat_minor": 5
}
